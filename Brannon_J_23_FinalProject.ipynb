{
 "cells": [
  {
   "cell_type": "code",
   "execution_count": 2,
   "metadata": {},
   "outputs": [],
   "source": [
    "import numpy as np\n",
    "from matplotlib import pyplot as plt\n",
    "import scipy.optimize as opt\n",
    "\n",
    "\n",
    "\n",
    "#Making Particle Class for every Neutron\n",
    "class Particle(object):   \n",
    "    def __init__(self, UOE, x, y,vx,vy):\n",
    "        self.x = x\n",
    "        self.y = y\n",
    "        self.vx = vx\n",
    "        self.vy = vy\n",
    "        self.UOE = UOE\n",
    "#Trial 1    \n",
    "    def movement(self,distance):\n",
    "    #Initial Conditions for Movement\n",
    "        self.x = self.x + 4 \n",
    "        self.UOE = self.UOE - 4 * Energy_Loss_Forward\n",
    "        self.vx = 1\n",
    "        position_x = [0,1,2,3,4]\n",
    "        position_y = [0,0,0,0,0]\n",
    "    #Movement Throughout Shield\n",
    "        for i in range(10000):\n",
    "            #Make sure Particle has enough energy for movement\n",
    "            if self.UOE >=0:\n",
    "                #Make sure Particle is within the shield\n",
    "                if 0 <= self.x <= distance:\n",
    "                    percentage = np.random.random()\n",
    "###########################################################################################################################\n",
    "                    #Forward Movement\n",
    "                    if percentage <= 4/6:\n",
    "                        #Depending On whether Forward Movement is in the y or x\n",
    "                        #+x velocity\n",
    "                        if self.vx == 1:\n",
    "                            self.x = self.x + self.vx\n",
    "                            self.UOE = self.UOE - Energy_Loss_Forward\n",
    "                            position_x.append(self.x)\n",
    "                            position_y.append(self.y)\n",
    "                            #UOE.append(self.UOE)\n",
    "                        #-x velocity\n",
    "                        elif self.vx == -1:\n",
    "                            self.x = self.x + self.vx\n",
    "                            self.UOE = self.UOE - Energy_Loss_Forward\n",
    "                            position_x.append(self.x)\n",
    "                            position_y.append(self.y)\n",
    "                        #+y velocity\n",
    "                        elif self.vy == 1:\n",
    "                            self.y = self.y + self.vy\n",
    "                            self.UOE = self.UOE - Energy_Loss_Forward\n",
    "                            position_x.append(self.x)\n",
    "                            position_y.append(self.y)\n",
    "                        #-y velocity\n",
    "                        elif self.vy == -1:\n",
    "                            self.y = self.y + self.vy\n",
    "                            self.UOE = self.UOE - Energy_Loss_Forward\n",
    "                            position_x.append(self.x)\n",
    "                            position_y.append(self.y)\n",
    "                        #print(\"Forward\",\"x: \" + str(self.x), \"y: \"+ str(self.y),\"vx: \" + str(self.vx), \"vy: \"+ str(self.vy))\n",
    "                        #print(position_x,position_y)\n",
    "###########################################################################################################################\n",
    "                    #Left Movement\n",
    "                    elif percentage >= 5/6:\n",
    "                        #Depending On whether Forward Movement is in the y or x\n",
    "                        ###+x velocity###\n",
    "                        if self.vx == 1:\n",
    "                            #changing direction to respective \"left\"\n",
    "                            self.vx = 0\n",
    "                            self.vy = 1\n",
    "                            #move \"left\"\n",
    "                            self.y = self.y + self.vy\n",
    "                            #Probabilistically find losing of energy\n",
    "                            if np.random.random() < .75:\n",
    "                                self.UOE = self.UOE - Energy_Loss_Scatter_Small\n",
    "                            else:\n",
    "                                self.UOE = self.UOE - Energy_Loss_Scatter_Big\n",
    "                            position_x.append(self.x)\n",
    "                            position_y.append(self.y)\n",
    "                        ###-x velocity###\n",
    "                        elif (self.vx == -1):\n",
    "                            #changing direction to respective \"left\"\n",
    "                            self.vx = 0\n",
    "                            self.vy = -1\n",
    "                            #move \"left\"\n",
    "                            self.y = self.y + self.vy\n",
    "                            #Probabilistically find losing of energy\n",
    "                            if np.random.random() < .75:\n",
    "                                self.UOE = self.UOE - Energy_Loss_Scatter_Small\n",
    "                            else:\n",
    "                                self.UOE = self.UOE - Energy_Loss_Scatter_Big\n",
    "                            position_x.append(self.x)\n",
    "                            position_y.append(self.y)\n",
    "                        ###+y velocity###\n",
    "                        elif self.vy == 1:\n",
    "                            #changing direction to respective \"left\"\n",
    "                            self.vx = -1\n",
    "                            self.vy = 0\n",
    "                            #move \"left\"\n",
    "                            self.x = self.x + self.vx\n",
    "                            #Probabilistically find losing of energy\n",
    "                            if np.random.random() < .75:\n",
    "                                self.UOE = self.UOE - Energy_Loss_Scatter_Small\n",
    "                            else:\n",
    "                                self.UOE = self.UOE - Energy_Loss_Scatter_Big\n",
    "                            position_x.append(self.x)\n",
    "                            position_y.append(self.y)\n",
    "                        ###-y velocity###\n",
    "                        elif self.vy == -1:\n",
    "                            #changing direction to respective \"left\"\n",
    "                            self.vx = 1\n",
    "                            self.vy = 0\n",
    "                            #move \"left\"\n",
    "                            self.x = self.x + self.vx\n",
    "                            #Probabilistically find losing of energy\n",
    "                            if np.random.random() < .75:\n",
    "                                self.UOE = self.UOE - Energy_Loss_Scatter_Small\n",
    "                            else:\n",
    "                                self.UOE = self.UOE - Energy_Loss_Scatter_Big\n",
    "                            position_x.append(self.x)\n",
    "                            position_y.append(self.y)\n",
    "                        \n",
    "                        #UOE.append(self.UOE)\n",
    "                        #If we do not have an integer velocity\n",
    "                        else:\n",
    "                            print(\"error\")\n",
    "                        #print(\"Left\",\"x: \" + str(self.x), \"y: \"+ str(self.y),\"vx: \" + str(self.vx), \"vy: \"+ str(self.vy))\n",
    "                        #print(position_x,position_y)\n",
    "###########################################################################################################################\n",
    "                    #Right Movement\n",
    "                    else:\n",
    "                        #Depending On whether Forward Movement is in the y or x\n",
    "                        ###+x velocity###\n",
    "                        if self.vx == 1:\n",
    "                            #changing direction to respective \"right\"\n",
    "                            self.vx = 0\n",
    "                            self.vy = -1\n",
    "                            #move \"right\"\n",
    "                            self.y = self.y + self.vy\n",
    "                            #Probabilistically find losing of energy\n",
    "                            if np.random.random() < .75:\n",
    "                                self.UOE = self.UOE - Energy_Loss_Scatter_Small\n",
    "                            else:\n",
    "                                self.UOE = self.UOE - Energy_Loss_Scatter_Big\n",
    "                            position_x.append(self.x)\n",
    "                            position_y.append(self.y)\n",
    "                        ###-x velocity###\n",
    "                        elif self.vx == -1:\n",
    "                            #changing direction to respective \"right\"\n",
    "                            self.vx = 0\n",
    "                            self.vy = 1\n",
    "                            #move \"right\"\n",
    "                            self.y = self.y + self.vy\n",
    "                            #Probabilistically find losing of energy\n",
    "                            if np.random.random() < .75:\n",
    "                                self.UOE = self.UOE - Energy_Loss_Scatter_Small\n",
    "                            else:\n",
    "                                self.UOE = self.UOE - Energy_Loss_Scatter_Big\n",
    "                            position_x.append(self.x)\n",
    "                            position_y.append(self.y)\n",
    "                        ###+y velocity###\n",
    "                        elif self.vy == 1:\n",
    "                            #changing direction to respective \"right\"\n",
    "                            self.vx = 1\n",
    "                            self.vy = 0\n",
    "                            #move \"right\"\n",
    "                            self.x = self.x + self.vx\n",
    "                            #Probabilistically find losing of energy\n",
    "                            if np.random.random() < .75:\n",
    "                                self.UOE = self.UOE - Energy_Loss_Scatter_Small\n",
    "                            else:\n",
    "                                self.UOE = self.UOE - Energy_Loss_Scatter_Big\n",
    "                            position_x.append(self.x)\n",
    "                            position_y.append(self.y)\n",
    "                        ###-y velocity###\n",
    "                        elif self.vy == -1:\n",
    "                            #changing direction to respective \"right\"\n",
    "                            self.vx = -1\n",
    "                            self.vy = 0\n",
    "                            #move \"right\"\n",
    "                            self.x = self.x + self.vx\n",
    "                            #Probabilistically find losing of energy\n",
    "                            if np.random.random() < .75:\n",
    "                                self.UOE = self.UOE - Energy_Loss_Scatter_Small\n",
    "                            else:\n",
    "                                self.UOE = self.UOE - Energy_Loss_Scatter_Big\n",
    "                            position_x.append(self.x)\n",
    "                            position_y.append(self.y)\n",
    "                        \n",
    "                        #UOE.append(self.UOE)\n",
    "                        #if we do not have an integer velocity\n",
    "                        else:\n",
    "                            print(\"error\")\n",
    "                        #print(\"Right\",\"x: \" + str(self.x), \"y: \"+ str(self.y),\"vx: \" + str(self.vx), \"vy: \"+ str(self.vy))\n",
    "                        #print(position_x,position_y)\n",
    "                #Dont Move anymore once through the Shield\n",
    "                else:\n",
    "                    #if self.x > distance:\n",
    "                    #    print(\"thru\")\n",
    "                    #else:\n",
    "                    #    print(\"ref\")\n",
    "                    break                \n",
    "            #Dont Move When UOE =< 0\n",
    "            else:\n",
    "                #print(\"trap\")\n",
    "                break\n",
    "        ax1.plot(position_x,position_y,c='b',alpha=1)\n",
    "############################################################################################################################\n",
    "############################################################################################################################\n",
    "############################################################################################################################\n",
    "#Trial 2\n",
    "    def movement_step(self,distance):\n",
    "    #Initial Conditions for Movement\n",
    "        self.x = self.x + 4 \n",
    "        self.UOE = self.UOE - 4\n",
    "        self.vx = 1\n",
    "        position_x = [0,1,2,3,4]\n",
    "        position_y = [0,0,0,0,0]\n",
    "        UOE = [Unit_Of_Energy_Initial, Unit_Of_Energy_Initial-1, Unit_Of_Energy_Initial-2, Unit_Of_Energy_Initial-3, Unit_Of_Energy_Initial-4]\n",
    "\n",
    "    #Movement Throughout Shield\n",
    "        for i in range(10000):\n",
    "            #Make sure Particle has enough energy for movement\n",
    "            if self.UOE >=0:\n",
    "                #Make sure Particle is within the shield\n",
    "                if 0 <= self.x <= distance:\n",
    "                    percentage = np.random.random()\n",
    "###########################################################################################################################\n",
    "                    #Forward Movement\n",
    "                    if percentage <= 4/6:\n",
    "                        #Depending On whether Forward Movement is in the y or x\n",
    "                        #+x velocity\n",
    "                        if self.vx == 1:\n",
    "                            self.x = self.x + self.vx\n",
    "                            self.UOE = self.UOE - 1\n",
    "                            position_x.append(self.x)\n",
    "                            position_y.append(self.y)\n",
    "                            #UOE.append(self.UOE)\n",
    "                        #-x velocity\n",
    "                        elif self.vx == -1:\n",
    "                            self.x = self.x + self.vx\n",
    "                            self.UOE = self.UOE - 1\n",
    "                            position_x.append(self.x)\n",
    "                            position_y.append(self.y)\n",
    "                        #+y velocity\n",
    "                        elif self.vy == 1:\n",
    "                            self.y = self.y + self.vy\n",
    "                            self.UOE = self.UOE - 1\n",
    "                            position_x.append(self.x)\n",
    "                            position_y.append(self.y)\n",
    "                        #-y velocity\n",
    "                        elif self.vy == -1:\n",
    "                            self.y = self.y + self.vy\n",
    "                            self.UOE = self.UOE - 1\n",
    "                            position_x.append(self.x)\n",
    "                            position_y.append(self.y)\n",
    "                        #print(\"Forward\",\"x: \" + str(self.x), \"y: \"+ str(self.y),\"vx: \" + str(self.vx), \"vy: \"+ str(self.vy))\n",
    "                        #print(position_x,position_y)\n",
    "###########################################################################################################################\n",
    "                    #Left Movement\n",
    "                    elif percentage >= 5/6:\n",
    "                        #Depending On whether Forward Movement is in the y or x\n",
    "                        ###+x velocity###\n",
    "                        if self.vx == 1:\n",
    "                            #changing direction to respective \"left\"\n",
    "                            self.vx = 0\n",
    "                            self.vy = 1\n",
    "                            #move \"left\"\n",
    "                            self.y = self.y + self.vy                                                   \n",
    "                            self.UOE = self.UOE - 1                        \n",
    "                            position_x.append(self.x)\n",
    "                            position_y.append(self.y)\n",
    "                        ###-x velocity###\n",
    "                        elif (self.vx == -1):\n",
    "                            #changing direction to respective \"left\"\n",
    "                            self.vx = 0\n",
    "                            self.vy = -1\n",
    "                            #move \"left\"\n",
    "                            self.y = self.y + self.vy                        \n",
    "                            self.UOE = self.UOE - 1\n",
    "                            position_x.append(self.x)\n",
    "                            position_y.append(self.y)\n",
    "                        ###+y velocity###\n",
    "                        elif self.vy == 1:\n",
    "                            #changing direction to respective \"left\"\n",
    "                            self.vx = -1\n",
    "                            self.vy = 0\n",
    "                            #move \"left\"\n",
    "                            self.x = self.x + self.vx\n",
    "                            self.UOE = self.UOE - 1\n",
    "                            position_x.append(self.x)\n",
    "                            position_y.append(self.y)\n",
    "                        ###-y velocity###\n",
    "                        elif self.vy == -1:\n",
    "                            #changing direction to respective \"left\"\n",
    "                            self.vx = 1\n",
    "                            self.vy = 0\n",
    "                            #move \"left\"\n",
    "                            self.x = self.x + self.vx                            \n",
    "                            self.UOE = self.UOE - 1\n",
    "                            position_x.append(self.x)\n",
    "                            position_y.append(self.y)\n",
    "                        \n",
    "                        #UOE.append(self.UOE)\n",
    "                        #If we do not have an integer velocity\n",
    "                        else:\n",
    "                            print(\"error\")\n",
    "                        #print(\"Left\",\"x: \" + str(self.x), \"y: \"+ str(self.y),\"vx: \" + str(self.vx), \"vy: \"+ str(self.vy))\n",
    "                        #print(position_x,position_y)\n",
    "###########################################################################################################################\n",
    "                    #Right Movement\n",
    "                    else:\n",
    "                        #Depending On whether Forward Movement is in the y or x\n",
    "                        ###+x velocity###\n",
    "                        if self.vx == 1:\n",
    "                            #changing direction to respective \"right\"\n",
    "                            self.vx = 0\n",
    "                            self.vy = -1\n",
    "                            #move \"right\"\n",
    "                            self.y = self.y + self.vy                            \n",
    "                            self.UOE = self.UOE - 1\n",
    "                            position_x.append(self.x)\n",
    "                            position_y.append(self.y)\n",
    "                        ###-x velocity###\n",
    "                        elif self.vx == -1:\n",
    "                            #changing direction to respective \"right\"\n",
    "                            self.vx = 0\n",
    "                            self.vy = 1\n",
    "                            #move \"right\"\n",
    "                            self.y = self.y + self.vy                            \n",
    "                            self.UOE = self.UOE - 1\n",
    "                            position_x.append(self.x)\n",
    "                            position_y.append(self.y)\n",
    "                        ###+y velocity###\n",
    "                        elif self.vy == 1:\n",
    "                            #changing direction to respective \"right\"\n",
    "                            self.vx = 1\n",
    "                            self.vy = 0\n",
    "                            #move \"right\"\n",
    "                            self.x = self.x + self.vx\n",
    "                            self.UOE = self.UOE -1\n",
    "                            position_x.append(self.x)\n",
    "                            position_y.append(self.y)\n",
    "                        ###-y velocity###\n",
    "                        elif self.vy == -1:\n",
    "                            #changing direction to respective \"right\"\n",
    "                            self.vx = -1\n",
    "                            self.vy = 0\n",
    "                            #move \"right\"\n",
    "                            self.x = self.x + self.vx\n",
    "                            self.UOE = self.UOE - 1\n",
    "                            position_x.append(self.x)\n",
    "                            position_y.append(self.y)\n",
    "                        \n",
    "                        #UOE.append(self.UOE)\n",
    "                        #if we do not have an integer velocity\n",
    "                        else:\n",
    "                            print(\"error\")\n",
    "                        #print(\"Right\",\"x: \" + str(self.x), \"y: \"+ str(self.y),\"vx: \" + str(self.vx), \"vy: \"+ str(self.vy))\n",
    "                        #print(position_x,position_y)\n",
    "                #Dont Move anymore once through the Shield\n",
    "                else:\n",
    "                    #if self.x > distance:\n",
    "                    #    print(\"thru\")\n",
    "                    #else:\n",
    "                    #    print(\"ref\")\n",
    "                    break                \n",
    "            #Dont Move When UOE =< 0\n",
    "            else:\n",
    "                #print(\"trap\")\n",
    "                break\n",
    "        ax1.plot(position_x,position_y,c='b',alpha=1)"
   ]
  },
  {
   "cell_type": "markdown",
   "metadata": {},
   "source": [
    "################################################## First Condition #############################################################"
   ]
  },
  {
   "cell_type": "code",
   "execution_count": 43,
   "metadata": {
    "scrolled": true
   },
   "outputs": [
    {
     "name": "stdout",
     "output_type": "stream",
     "text": [
      "distance is: 4\n",
      "thru : [89.9666]\n"
     ]
    }
   ],
   "source": [
    "distance = 4\n",
    "Unit_Of_Energy_Initial = 1250\n",
    "Energy_Loss_Forward = 1\n",
    "Energy_Loss_Scatter_Big = 5\n",
    "Energy_Loss_Scatter_Small = 2\n",
    "UOE = [Unit_Of_Energy_Initial, Unit_Of_Energy_Initial-Energy_Loss_Forward, Unit_Of_Energy_Initial-2*Energy_Loss_Forward, Unit_Of_Energy_Initial-3*Energy_Loss_Forward, Unit_Of_Energy_Initial-4*Energy_Loss_Forward]\n",
    "position_x = [0,1,2,3,4]\n",
    "position_y = [0,0,0,0,0]\n",
    "thru = []\n",
    "trap = []\n",
    "ref = []\n",
    "number_of_particles = 1000000\n",
    "###########################################################################################################################\n",
    "#Probability Cell - Changing Distance from 5 - 15 in steps of 0.5\n",
    "\n",
    "#Making Multiple Particles\n",
    "neutrons = []\n",
    "prob_thru = []\n",
    "changing_dist_of_shield = []\n",
    "for i in range(number_of_particles):\n",
    "    neutrons.append(Particle(Unit_Of_Energy_Initial,0,0,1,0))\n",
    "for i in range(number_of_particles):\n",
    "    neutrons[i].movement(distance)\n",
    "    #Finding End States of each neutron\n",
    "    #Reflected Neutron\n",
    "    if neutrons[i].x < 0:\n",
    "        thru.append(0)\n",
    "    #Through Neutron\n",
    "    elif neutrons[i].x > (distance):\n",
    "        thru.append(1)\n",
    "    #Trapped Neutron\n",
    "    else:\n",
    "        thru.append(0)\n",
    "    #print(thru,trap,ref)\n",
    "    #print(\"x: \" +str(neutrons[i].x))\n",
    "#Calculating Probabilities\n",
    "#Probabilities for each distance of the shield\n",
    "Probability_through = sum(thru)/number_of_particles *100\n",
    "prob_thru.append(Probability_through)\n",
    "#Gathering x data\n",
    "changing_dist_of_shield.append(distance)\n",
    "#reset the values so we retain between 0-100% Probabilities\n",
    "thru = []\n",
    "print(\"distance is: \" + str(distance))\n",
    "print(\"thru : \" + str(prob_thru))"
   ]
  },
  {
   "cell_type": "markdown",
   "metadata": {},
   "source": [
    "Distance: | % Penetration | # Neutrons  \n",
    "  x = 0   |      100      |  1000000  \n",
    "  x = 1   |      100      |  1000000  \n",
    "  x = 2   |      100      |  1000000  \n",
    "  x = 3   |      100      |  1000000  \n",
    "  x = 4   |    90.034     |  1000000  \n",
    "  x = 5   |    81.8331    |  1000000  \n",
    "  x = 6   |    74.9889    |  1000000  \n",
    "  x = 7   |    69.2032    |  1000000  \n",
    "  x = 8   |    64.2443    |  1000000  \n",
    "  x = 9   |    59.9162    |  1000000    \n",
    "  x = 10  |    56.2206    |  1000000  \n",
    "  x = 11  |    52.9376    |  1000000  \n",
    "  x = 12  |    50.1075    |  1000000  \n",
    "  x = 13  |    47.4657    |  1000000  \n",
    "  x = 14  |    44.9248    |  1000000  \n",
    "  x = 15  |    42.8047    |  1000000  \n",
    "  x = 16  |    40.9757    |  1000000  \n",
    "  x = 17  |    39.1828    |  1000000  \n",
    "  x = 18  |    37.5074    |  1000000  \n",
    "  x = 19  |    36.0015    |  1000000  \n",
    "  x = 20  |     34.524    |  1000000 \n",
    "  \n",
    "  unc. for each % penetration = +/- .0282"
   ]
  },
  {
   "cell_type": "code",
   "execution_count": 44,
   "metadata": {},
   "outputs": [
    {
     "name": "stdout",
     "output_type": "stream",
     "text": [
      "standard deviation for trial 2 is: 0.028150375421362197\n"
     ]
    }
   ],
   "source": [
    "#Uncertainty: 11 runs at x=4 should give us a good enough uncertainty for all our data\n",
    "j = [90.0324, 90.0340, 89.9857, 89.9563, 90.0397, 89.9671, 89.99, 90.0029, 89.9857, 90.0187, 89.9666]\n",
    "print(\"standard deviation for trial 2 is: \" + str(np.std(j)))"
   ]
  },
  {
   "cell_type": "code",
   "execution_count": 66,
   "metadata": {},
   "outputs": [
    {
     "name": "stdout",
     "output_type": "stream",
     "text": [
      "exponential: 1.089, -0.061, -0.000\n",
      "exponential2: 0.935, -0.066, -0.000\n"
     ]
    },
    {
     "data": {
      "text/plain": [
       "<matplotlib.legend.Legend at 0x16d9880fc10>"
      ]
     },
     "execution_count": 66,
     "metadata": {},
     "output_type": "execute_result"
    },
    {
     "data": {
      "image/png": "[encoded data removed]",
      "text/plain": [
       "<Figure size 720x360 with 1 Axes>"
      ]
     },
     "metadata": {
      "needs_background": "light"
     },
     "output_type": "display_data"
    }
   ],
   "source": [
    "###########################################################################################################################\n",
    "#Propagating Curve to Fit Probability Curve\n",
    "##### Probability Data / Distance of Shield #####\n",
    "y_data = [1, 1, 1, 1, .90034, .818331, .749889, .692032, .642443, .592206, .562206, .529376, .501075, .474657, .449248, .428047, .409757, .391828, .375074, .360015, .34524]\n",
    "##### Distance Of Shield #####\n",
    "x_data = [0,1,2,3,4,5,6,7,8,9,10,11,12,13,14,15,16,17,18,19,20]\n",
    "##### Probability Data / Distance of Shield Excluding 100%'s #####\n",
    "y_data_2 = [1,.90034, .818331, .749889, .692032, .642443, .592206, .562206, .529376, .501075, .474657, .449248, .428047, .409757, .391828, .375074, .360015, .34524]\n",
    "##### Distance of Shield respective to y_data_2 #####\n",
    "x_data_2 = [0,1,2,3,4,5,6,7,8,9,10,11,12,13,14,15,16,17]\n",
    "x_data_2_graph = [3,4,5,6,7,8,9,10,11,12,13,14,15,16,17,18,19,20]\n",
    "fig1 = plt.figure(figsize=(10,5))\n",
    "ax1 = fig1.add_subplot(111)\n",
    "\n",
    "#Fitting Function\n",
    "def exponential(x,a,b):\n",
    "    return a*np.exp(b*x)\n",
    "\n",
    "# Monte Carlo-version of 4 parameter Curve Fit that can use BOTH x and Y errors\n",
    "def mcFit4(func, x, y, x_err=0.01, y_err=.0282, p0=[1,1]):\n",
    "    paramA = list()\n",
    "    paramB = list()\n",
    "    unc = list()\n",
    "    iters = 100\n",
    "    for i in range(iters):\n",
    "        # remember random normal distribution (Gaussian)\n",
    "        weightsx = np.random.randn(len(y))\n",
    "        weightsy = np.random.randn(len(y))\n",
    "        y_adj = y + y_err*weightsy\n",
    "        x_adj = x + x_err*weightsx \n",
    "        popt, pcov = opt.curve_fit(func, x_adj, y_adj, p0=p0)\n",
    "        paramA.append(popt[0])\n",
    "        paramB.append(popt[1])\n",
    "        unc.append(pcov[1])\n",
    "    return (np.median(paramA),np.median(paramB),np.median(unc))\n",
    "\n",
    "#=================================================================================\n",
    "#EXPONENTIAL FIT of full 0-20 (4 parameters)\n",
    "expA, expB, unc = mcFit4(exponential, x_data , y_data, \\\n",
    "                        p0=[1,-1])\n",
    "print(f'exponential: {expA:.3f}, {expB:.3f}, {unc:.3f}')\n",
    "#=================================================================================\n",
    "#=================================================================================\n",
    "#EXPONENTIAL FIT from 4-20 (4 parameters)\n",
    "expA2, expB2, unc= mcFit4(exponential, x_data_2 , y_data_2, \\\n",
    "                        p0=[1522,-.04])\n",
    "print(f'exponential2: {expA2:.3f}, {expB2:.3f}, {unc:.3f}')\n",
    "#=================================================================================\n",
    "\n",
    "#exponential fit\n",
    "x_plot = np.linspace(0,20,1000)\n",
    "x_plot_2 = np.linspace (0,17,1000)\n",
    "ax1.plot(x_plot,exponential(x_plot, expA, expB), label='Fit: decay from 0-20 = x')\n",
    "ax1.plot(x_plot_2+3,exponential(x_plot_2, expA2, expB2), label='Fit: decay from 3-20 = x')\n",
    "\n",
    "ax1.scatter(x_data , y_data, label='Data from 0-20 = x')\n",
    "ax1.scatter(x_data_2_graph , y_data_2, label='Data from 3-20 = x')\n",
    "ax1.set_xlabel(\"Total Length of Shield\",size=14)   \n",
    "ax1.set_ylabel(\"Percentage Neutron Penetrates Fully\",size=14)   \n",
    "ax1.legend(loc='best', fontsize=18)\n"
   ]
  },
  {
   "cell_type": "code",
   "execution_count": 16,
   "metadata": {},
   "outputs": [
    {
     "data": {
      "text/plain": [
       "<matplotlib.lines.Line2D at 0x23366dd23a0>"
      ]
     },
     "execution_count": 16,
     "metadata": {},
     "output_type": "execute_result"
    },
    {
     "data": {
      "image/png": "[encoded data removed]",
      "text/plain": [
       "<Figure size 720x360 with 1 Axes>"
      ]
     },
     "metadata": {
      "needs_background": "light"
     },
     "output_type": "display_data"
    }
   ],
   "source": [
    "distance =15\n",
    "Unit_Of_Energy_Initial = 1250\n",
    "Energy_Loss_Forward = 1\n",
    "Energy_Loss_Scatter_Big = 5\n",
    "Energy_Loss_Scatter_Small = 2\n",
    "UOE = [Unit_Of_Energy_Initial, Unit_Of_Energy_Initial-Energy_Loss_Forward, Unit_Of_Energy_Initial-2*Energy_Loss_Forward, Unit_Of_Energy_Initial-3*Energy_Loss_Forward, Unit_Of_Energy_Initial-4*Energy_Loss_Forward]\n",
    "thru = []\n",
    "number_of_particles = 50000\n",
    "fig1 = plt.figure(figsize=(10,5))\n",
    "ax1 = fig1.add_subplot(111)\n",
    "\n",
    "neutrons1 = []\n",
    "\n",
    "for i in range(number_of_particles):\n",
    "    neutrons1.append(Particle(Unit_Of_Energy_Initial,0,0,1,0))\n",
    "    neutrons1[i].movement(distance)\n",
    "        \n",
    "    #print(\"particle\" + str(i+1))\n",
    "ax1.axvline(x = 0, color = 'r')\n",
    "ax1.axvline(x = distance, color = 'r') "
   ]
  },
  {
   "cell_type": "code",
   "execution_count": 19,
   "metadata": {},
   "outputs": [
    {
     "data": {
      "text/plain": [
       "<matplotlib.lines.Line2D at 0x23370a5ca60>"
      ]
     },
     "execution_count": 19,
     "metadata": {},
     "output_type": "execute_result"
    },
    {
     "data": {
      "image/png": "[encoded data removed]",
      "text/plain": [
       "<Figure size 720x360 with 1 Axes>"
      ]
     },
     "metadata": {
      "needs_background": "light"
     },
     "output_type": "display_data"
    }
   ],
   "source": [
    "distance =15\n",
    "Unit_Of_Energy_Initial = 1250\n",
    "Energy_Loss_Forward = 1\n",
    "Energy_Loss_Scatter_Big = 5\n",
    "Energy_Loss_Scatter_Small = 2\n",
    "UOE = [Unit_Of_Energy_Initial, Unit_Of_Energy_Initial-Energy_Loss_Forward, Unit_Of_Energy_Initial-2*Energy_Loss_Forward, Unit_Of_Energy_Initial-3*Energy_Loss_Forward, Unit_Of_Energy_Initial-4*Energy_Loss_Forward]\n",
    "thru = []\n",
    "number_of_particles = 5000\n",
    "fig1 = plt.figure(figsize=(10,5))\n",
    "ax1 = fig1.add_subplot(111)\n",
    "\n",
    "neutrons1 = []\n",
    "\n",
    "for i in range(number_of_particles):\n",
    "    neutrons1.append(Particle(Unit_Of_Energy_Initial,0,0,1,0))\n",
    "    neutrons1[i].movement(distance)\n",
    "        \n",
    "    #print(\"particle\" + str(i+1))\n",
    "ax1.axvline(x = 0, color = 'r')\n",
    "ax1.axvline(x = distance, color = 'r') "
   ]
  },
  {
   "cell_type": "code",
   "execution_count": 20,
   "metadata": {},
   "outputs": [
    {
     "data": {
      "text/plain": [
       "<matplotlib.lines.Line2D at 0x2336beb98e0>"
      ]
     },
     "execution_count": 20,
     "metadata": {},
     "output_type": "execute_result"
    },
    {
     "data": {
      "image/png": "[encoded data removed]",
      "text/plain": [
       "<Figure size 720x360 with 1 Axes>"
      ]
     },
     "metadata": {
      "needs_background": "light"
     },
     "output_type": "display_data"
    }
   ],
   "source": [
    "distance =15\n",
    "Unit_Of_Energy_Initial = 1250\n",
    "Energy_Loss_Forward = 1\n",
    "Energy_Loss_Scatter_Big = 5\n",
    "Energy_Loss_Scatter_Small = 2\n",
    "UOE = [Unit_Of_Energy_Initial, Unit_Of_Energy_Initial-Energy_Loss_Forward, Unit_Of_Energy_Initial-2*Energy_Loss_Forward, Unit_Of_Energy_Initial-3*Energy_Loss_Forward, Unit_Of_Energy_Initial-4*Energy_Loss_Forward]\n",
    "thru = []\n",
    "number_of_particles = 50\n",
    "fig1 = plt.figure(figsize=(10,5))\n",
    "ax1 = fig1.add_subplot(111)\n",
    "\n",
    "neutrons1 = []\n",
    "\n",
    "for i in range(number_of_particles):\n",
    "    neutrons1.append(Particle(Unit_Of_Energy_Initial,0,0,1,0))\n",
    "    neutrons1[i].movement(distance)\n",
    "        \n",
    "    #print(\"particle\" + str(i+1))\n",
    "ax1.axvline(x = 0, color = 'r')\n",
    "ax1.axvline(x = distance, color = 'r') "
   ]
  },
  {
   "cell_type": "code",
   "execution_count": 7,
   "metadata": {},
   "outputs": [
    {
     "data": {
      "text/plain": [
       "<matplotlib.lines.Line2D at 0x200cfb04fa0>"
      ]
     },
     "execution_count": 7,
     "metadata": {},
     "output_type": "execute_result"
    },
    {
     "data": {
      "image/png": "[encoded data removed]",
      "text/plain": [
       "<Figure size 720x360 with 1 Axes>"
      ]
     },
     "metadata": {
      "needs_background": "light"
     },
     "output_type": "display_data"
    }
   ],
   "source": [
    "distance =4\n",
    "Unit_Of_Energy_Initial = 1250\n",
    "Energy_Loss_Forward = 1\n",
    "Energy_Loss_Scatter_Big = 5\n",
    "Energy_Loss_Scatter_Small = 2\n",
    "UOE = [Unit_Of_Energy_Initial, Unit_Of_Energy_Initial-Energy_Loss_Forward, Unit_Of_Energy_Initial-2*Energy_Loss_Forward, Unit_Of_Energy_Initial-3*Energy_Loss_Forward, Unit_Of_Energy_Initial-4*Energy_Loss_Forward]\n",
    "thru = []\n",
    "number_of_particles = 1\n",
    "fig1 = plt.figure(figsize=(10,5))\n",
    "ax1 = fig1.add_subplot(111)\n",
    "\n",
    "neutrons1 = []\n",
    "\n",
    "for i in range(number_of_particles):\n",
    "    neutrons1.append(Particle(Unit_Of_Energy_Initial,0,0,1,0))\n",
    "    neutrons1[i].movement(distance)\n",
    "        \n",
    "    #print(\"particle\" + str(i+1))\n",
    "ax1.axvline(x = 0, color = 'r')\n",
    "ax1.axvline(x = distance, color = 'r') "
   ]
  },
  {
   "cell_type": "markdown",
   "metadata": {},
   "source": [
    "################################################## Second Condition ############################################################"
   ]
  },
  {
   "cell_type": "code",
   "execution_count": 62,
   "metadata": {},
   "outputs": [
    {
     "name": "stdout",
     "output_type": "stream",
     "text": [
      "distance is: 20\n",
      "thru : [33.6074]\n"
     ]
    }
   ],
   "source": [
    "distance =20\n",
    "number_of_particles = 1000000\n",
    "thru = []\n",
    "\n",
    "#Making Multiple Particles\n",
    "neutrons = []\n",
    "prob_thru = []\n",
    "changing_dist_of_shield = []\n",
    "for i in range(number_of_particles):\n",
    "    #Random energies with a normal distribution\n",
    "    Unit_Of_Energy_Initial = np.random.normal(500,250)\n",
    "    #If the energies appear with a negative number, run it again until we get no negatives\n",
    "    if Unit_Of_Energy_Initial < 0:\n",
    "        while Unit_Of_Energy_Initial < 0:\n",
    "            Unit_Of_Energy_Initial = np.random.normal(500,250)\n",
    "        neutrons.append(Particle(Unit_Of_Energy_Initial,0,0,1,0))\n",
    "    else:\n",
    "        neutrons.append(Particle(Unit_Of_Energy_Initial,0,0,1,0))\n",
    "for i in range(number_of_particles):\n",
    "    neutrons[i].movement_step(distance)\n",
    "    #Finding End States of each neutron\n",
    "    #Reflected Neutron\n",
    "    if neutrons[i].x < 0:\n",
    "        thru.append(0)\n",
    "    #Through Neutron\n",
    "    elif neutrons[i].x > (distance):\n",
    "        thru.append(1)\n",
    "    #Trapped Neutron\n",
    "    else:\n",
    "        thru.append(0)\n",
    "    #print(thru,trap,ref)\n",
    "    #print(\"x: \" +str(neutrons[i].x))\n",
    "#Calculating Probabilities\n",
    "#Probabilities for each distance of the shield\n",
    "Probability_through = sum(thru)/number_of_particles *100\n",
    "prob_thru.append(Probability_through)\n",
    "#Gathering x data\n",
    "changing_dist_of_shield.append(distance)\n",
    "#reset the values so we retain between 0-100% Probabilities\n",
    "thru = []\n",
    "print(\"distance is: \" + str(distance))\n",
    "print(\"thru : \" + str(prob_thru))"
   ]
  },
  {
   "cell_type": "markdown",
   "metadata": {},
   "source": [
    "Distance: | % Penetration | # Neutrons  \n",
    "  x = 0   |      100      |  1000000  \n",
    "  x = 1   |      100      |  1000000  \n",
    "  x = 2   |      100      |  1000000  \n",
    "  x = 3   |      100      |  1000000  \n",
    "  x = 4   |    89.8952    |  1000000  \n",
    "  x = 5   |    81.6572    |  1000000  \n",
    "  x = 6   |    74.8032    |  1000000  \n",
    "  x = 7   |    68.9786    |  1000000  \n",
    "  x = 8   |    63.9566    |  1000000  \n",
    "  x = 9   |    59.6735    |  1000000    \n",
    "  x = 10  |    55.9034    |  1000000  \n",
    "  x = 11  |    52.4909    |  1000000  \n",
    "  x = 12  |    49.5454    |  1000000  \n",
    "  x = 13  |    46.7036    |  1000000  \n",
    "  x = 14  |    44.2946    |  1000000  \n",
    "  x = 15  |    42.3706    |  1000000  \n",
    "  x = 16  |    40.1990    |  1000000  \n",
    "  x = 17  |    38.3243    |  1000000  \n",
    "  x = 18  |    36.5282    |  1000000  \n",
    "  x = 19  |    35.0433    |  1000000  \n",
    "  x = 20  |    33.6074    |  1000000 \n",
    "  \n",
    "  unc. for each % penetration +/- .019"
   ]
  },
  {
   "cell_type": "code",
   "execution_count": 31,
   "metadata": {},
   "outputs": [
    {
     "name": "stdout",
     "output_type": "stream",
     "text": [
      "standard deviation for trial 2 is: 0.01902461650225497\n"
     ]
    }
   ],
   "source": [
    "#Uncertainty: 11 runs at x=4 should give us a good enough uncertainty for all our data\n",
    "j = [89.8453, 89.8765, 89.9099, 89.9125, 89.8794, 89.8905, 89.9034, 89.8852, 89.9012, 89.9101, 89.8824]\n",
    "print(\"standard deviation for trial 2 is: \" + str(np.std(j)))"
   ]
  },
  {
   "cell_type": "code",
   "execution_count": 72,
   "metadata": {},
   "outputs": [
    {
     "name": "stdout",
     "output_type": "stream",
     "text": [
      "exponential: 1.087, -0.062, -0.000\n",
      "exponential2: 0.940, -0.068, -0.000\n"
     ]
    },
    {
     "data": {
      "text/plain": [
       "<matplotlib.legend.Legend at 0x16d9b3e1e80>"
      ]
     },
     "execution_count": 72,
     "metadata": {},
     "output_type": "execute_result"
    },
    {
     "data": {
      "image/png": "[encoded data removed]",
      "text/plain": [
       "<Figure size 720x360 with 1 Axes>"
      ]
     },
     "metadata": {
      "needs_background": "light"
     },
     "output_type": "display_data"
    }
   ],
   "source": [
    "###########################################################################################################################\n",
    "#Propagating Curve to Fit Probability Curve\n",
    "##### Probability Data / Distance of Shield #####\n",
    "y_data_T2 = [1, 1, 1, 1, .898952, .816572, .748032, .689786, .639566, .596735, .559034, .524909, .495454, .467036, .442946, .423706, .401990, .383243, .365282, .350433, .336074]\n",
    "##### Distance Of Shield #####\n",
    "x_data_T2 = [0,1,2,3,4,5,6,7,8,9,10,11,12,13,14,15,16,17,18,19,20]\n",
    "##### Probability Data / Distance of Shield Excluding 100%'s #####\n",
    "y_data_2_T2 = [1, .898952, .816572, .748032, .689786, .639566, .596735, .559034, .524909, .495454, .467036, .442946, .423706, .401990, .383243, .365282, .350433, .336074]\n",
    "##### Distance of Shield respective to y_data_2 #####\n",
    "x_data_2_T2 = [0,1,2,3,4,5,6,7,8,9,10,11,12,13,14,15,16,17]\n",
    "x_data_2_graph_T2 = [3,4,5,6,7,8,9,10,11,12,13,14,15,16,17,18,19,20]\n",
    "fig1 = plt.figure(figsize=(10,5))\n",
    "ax1 = fig1.add_subplot(111)\n",
    "\n",
    "#Fitting Function\n",
    "def exponential(x,a,b):\n",
    "    return a*np.exp(b*x)\n",
    "\n",
    "# Monte Carlo-version of 4 parameter Curve Fit that can use BOTH x and Y errors\n",
    "def mcFit4(func, x, y, x_err=0.01, y_err=.019, p0=[1,1]):\n",
    "    paramA = list()\n",
    "    paramB = list()\n",
    "    unc = list()\n",
    "    iters = 100\n",
    "    for i in range(iters):\n",
    "        # remember random normal distribution (Gaussian)\n",
    "        weightsx = np.random.randn(len(y))\n",
    "        weightsy = np.random.randn(len(y))\n",
    "        y_adj = y + y_err*weightsy\n",
    "        x_adj = x + x_err*weightsx \n",
    "        popt, pcov = opt.curve_fit(func, x_adj, y_adj, p0=p0)\n",
    "        paramA.append(popt[0])\n",
    "        paramB.append(popt[1])\n",
    "        unc.append(pcov[1])\n",
    "    return (np.median(paramA),np.median(paramB),np.median(unc))\n",
    "\n",
    "#=================================================================================\n",
    "#EXPONENTIAL FIT of full 0-20 (4 parameters)\n",
    "expA, expB, unc = mcFit4(exponential, x_data_T2 , y_data_T2, \\\n",
    "                        p0=[100,-1])\n",
    "print(f'exponential: {expA:.3f}, {expB:.3f}, {unc:.3f}')\n",
    "#=================================================================================\n",
    "#=================================================================================\n",
    "#EXPONENTIAL FIT from 4-20 (4 parameters)\n",
    "expA2, expB2, unc= mcFit4(exponential, x_data_2_T2 , y_data_2_T2, \\\n",
    "                        p0=[1522,-.04])\n",
    "print(f'exponential2: {expA2:.3f}, {expB2:.3f}, {unc:.3f}')\n",
    "#=================================================================================\n",
    "\n",
    "#exponential fit\n",
    "x_plot = np.linspace(0,20,1000)\n",
    "x_plot_2 = np.linspace (0,17,1000)\n",
    "ax1.plot(x_plot,exponential(x_plot, expA, expB), label='Fit: decay from 0-20 = x')\n",
    "ax1.plot(x_plot_2+3,exponential(x_plot_2, expA2, expB2), label='Fit: decay from 3-20 = x')\n",
    "\n",
    "ax1.scatter(x_data_T2 , y_data_T2, label='Data from 0-20 = x')\n",
    "ax1.scatter(x_data_2_graph_T2 , y_data_2_T2, label='Data from 3-20 = x')\n",
    "ax1.set_xlabel(\"Total Length of Shield\",size=14)   \n",
    "ax1.set_ylabel(\"Percentage Neutron Penetrates Fully\",size=14)   \n",
    "ax1.legend(loc='best', fontsize=18)"
   ]
  },
  {
   "cell_type": "code",
   "execution_count": 31,
   "metadata": {},
   "outputs": [
    {
     "data": {
      "text/plain": [
       "<matplotlib.lines.Line2D at 0x2338773fd30>"
      ]
     },
     "execution_count": 31,
     "metadata": {},
     "output_type": "execute_result"
    },
    {
     "data": {
      "image/png": "[encoded data removed]",
      "text/plain": [
       "<Figure size 720x360 with 1 Axes>"
      ]
     },
     "metadata": {
      "needs_background": "light"
     },
     "output_type": "display_data"
    }
   ],
   "source": [
    "distance =15\n",
    "Unit_Of_Energy_Initial = 1250\n",
    "thru = []\n",
    "number_of_particles = 50000\n",
    "fig1 = plt.figure(figsize=(10,5))\n",
    "ax1 = fig1.add_subplot(111)\n",
    "\n",
    "neutrons = []\n",
    "\n",
    "for i in range(number_of_particles):\n",
    "    #Random energies with a normal distribution\n",
    "    Unit_Of_Energy_Initial = np.random.normal(500,250)\n",
    "    #If the energies appear with a negative number, run it again until we get no negatives\n",
    "    if Unit_Of_Energy_Initial < 0:\n",
    "        while Unit_Of_Energy_Initial < 0:\n",
    "            Unit_Of_Energy_Initial = np.random.normal(500,250)\n",
    "        neutrons.append(Particle(Unit_Of_Energy_Initial,0,0,1,0))\n",
    "    else:\n",
    "        neutrons.append(Particle(Unit_Of_Energy_Initial,0,0,1,0))\n",
    "    neutrons[i].movement_step(distance)\n",
    "        \n",
    "    #print(\"particle\" + str(i+1))\n",
    "ax1.axvline(x = 0, color = 'r')\n",
    "ax1.axvline(x = distance, color = 'r') "
   ]
  },
  {
   "cell_type": "code",
   "execution_count": 32,
   "metadata": {},
   "outputs": [
    {
     "data": {
      "text/plain": [
       "<matplotlib.lines.Line2D at 0x23384f43400>"
      ]
     },
     "execution_count": 32,
     "metadata": {},
     "output_type": "execute_result"
    },
    {
     "data": {
      "image/png": "[encoded data removed]",
      "text/plain": [
       "<Figure size 720x360 with 1 Axes>"
      ]
     },
     "metadata": {
      "needs_background": "light"
     },
     "output_type": "display_data"
    }
   ],
   "source": [
    "distance =15\n",
    "Unit_Of_Energy_Initial = 1250\n",
    "thru = []\n",
    "number_of_particles = 5000\n",
    "fig1 = plt.figure(figsize=(10,5))\n",
    "ax1 = fig1.add_subplot(111)\n",
    "\n",
    "neutrons = []\n",
    "\n",
    "for i in range(number_of_particles):\n",
    "    #Random energies with a normal distribution\n",
    "    Unit_Of_Energy_Initial = np.random.normal(500,250)\n",
    "    #If the energies appear with a negative number, run it again until we get no negatives\n",
    "    if Unit_Of_Energy_Initial < 0:\n",
    "        while Unit_Of_Energy_Initial < 0:\n",
    "            Unit_Of_Energy_Initial = np.random.normal(500,250)\n",
    "        neutrons.append(Particle(Unit_Of_Energy_Initial,0,0,1,0))\n",
    "    else:\n",
    "        neutrons.append(Particle(Unit_Of_Energy_Initial,0,0,1,0))\n",
    "    neutrons[i].movement_step(distance)\n",
    "        \n",
    "    #print(\"particle\" + str(i+1))\n",
    "ax1.axvline(x = 0, color = 'r')\n",
    "ax1.axvline(x = distance, color = 'r') "
   ]
  },
  {
   "cell_type": "code",
   "execution_count": 33,
   "metadata": {},
   "outputs": [
    {
     "data": {
      "text/plain": [
       "<matplotlib.lines.Line2D at 0x23362ffda00>"
      ]
     },
     "execution_count": 33,
     "metadata": {},
     "output_type": "execute_result"
    },
    {
     "data": {
      "image/png": "[encoded data removed]",
      "text/plain": [
       "<Figure size 720x360 with 1 Axes>"
      ]
     },
     "metadata": {
      "needs_background": "light"
     },
     "output_type": "display_data"
    }
   ],
   "source": [
    "distance =15\n",
    "Unit_Of_Energy_Initial = 1250\n",
    "thru = []\n",
    "number_of_particles = 50\n",
    "fig1 = plt.figure(figsize=(10,5))\n",
    "ax1 = fig1.add_subplot(111)\n",
    "\n",
    "neutrons = []\n",
    "\n",
    "for i in range(number_of_particles):\n",
    "    #Random energies with a normal distribution\n",
    "    Unit_Of_Energy_Initial = np.random.normal(500,250)\n",
    "    #If the energies appear with a negative number, run it again until we get no negatives\n",
    "    if Unit_Of_Energy_Initial < 0:\n",
    "        while Unit_Of_Energy_Initial < 0:\n",
    "            Unit_Of_Energy_Initial = np.random.normal(500,250)\n",
    "        neutrons.append(Particle(Unit_Of_Energy_Initial,0,0,1,0))\n",
    "    else:\n",
    "        neutrons.append(Particle(Unit_Of_Energy_Initial,0,0,1,0))\n",
    "    neutrons[i].movement_step(distance)\n",
    "        \n",
    "    #print(\"particle\" + str(i+1))\n",
    "ax1.axvline(x = 0, color = 'r')\n",
    "ax1.axvline(x = distance, color = 'r') "
   ]
  },
  {
   "cell_type": "code",
   "execution_count": 34,
   "metadata": {},
   "outputs": [
    {
     "data": {
      "text/plain": [
       "<matplotlib.lines.Line2D at 0x2333bc0ff70>"
      ]
     },
     "execution_count": 34,
     "metadata": {},
     "output_type": "execute_result"
    },
    {
     "data": {
      "image/png": "[encoded data removed]",
      "text/plain": [
       "<Figure size 720x360 with 1 Axes>"
      ]
     },
     "metadata": {
      "needs_background": "light"
     },
     "output_type": "display_data"
    }
   ],
   "source": [
    "distance =15\n",
    "Unit_Of_Energy_Initial = 1250\n",
    "thru = []\n",
    "number_of_particles = 1\n",
    "fig1 = plt.figure(figsize=(10,5))\n",
    "ax1 = fig1.add_subplot(111)\n",
    "\n",
    "neutrons = []\n",
    "\n",
    "for i in range(number_of_particles):\n",
    "    #Random energies with a normal distribution\n",
    "    Unit_Of_Energy_Initial = np.random.normal(500,250)\n",
    "    #If the energies appear with a negative number, run it again until we get no negatives\n",
    "    if Unit_Of_Energy_Initial < 0:\n",
    "        while Unit_Of_Energy_Initial < 0:\n",
    "            Unit_Of_Energy_Initial = np.random.normal(500,250)\n",
    "        neutrons.append(Particle(Unit_Of_Energy_Initial,0,0,1,0))\n",
    "    else:\n",
    "        neutrons.append(Particle(Unit_Of_Energy_Initial,0,0,1,0))\n",
    "    neutrons[i].movement_step(distance)\n",
    "        \n",
    "    #print(\"particle\" + str(i+1))\n",
    "ax1.axvline(x = 0, color = 'r')\n",
    "ax1.axvline(x = distance, color = 'r') "
   ]
  },
  {
   "cell_type": "code",
   "execution_count": null,
   "metadata": {},
   "outputs": [],
   "source": []
  }
 ],
 "metadata": {
  "kernelspec": {
   "display_name": "Python 3",
   "language": "python",
   "name": "python3"
  },
  "language_info": {
   "codemirror_mode": {
    "name": "ipython",
    "version": 3
   },
   "file_extension": ".py",
   "mimetype": "text/x-python",
   "name": "python",
   "nbconvert_exporter": "python",
   "pygments_lexer": "ipython3",
   "version": "3.8.3"
  }
 },
 "nbformat": 4,
 "nbformat_minor": 4
}
