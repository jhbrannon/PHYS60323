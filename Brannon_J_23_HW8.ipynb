{
 "cells": [
  {
   "cell_type": "markdown",
   "metadata": {},
   "source": [
    "# Lecture 17 - Random Numbers in Python & Monte Carlo - HW 8"
   ]
  },
  {
   "cell_type": "markdown",
   "metadata": {},
   "source": [
    "## 1) Random Numbers and Radio Activity\n",
    "\n",
    "The isotope $^{213}$Bi decays to stable $^{209}$Bi via one of two different routes, with probabilities and\n",
    "half-lives thus\n",
    "\n",
    "<img src=\"Decay9.jpg\" alt=\"Decay process for Bi213 to Bi209\" title=\"Bismuth Decay\" />\n",
    "\n",
    "(Technically, $^{209}$Bi isnt really stable, but it has a half-life of more than $10^{19}$ years, a billion\n",
    "times the age of the universe, so it might as well be.)\n",
    "\n",
    "Starting with a sample consisting of 10,000 atoms of $^{213}$Bi, simulate the decay of the atoms\n",
    "by dividing time into slices of length $\\delta t = 1$s each and on each step doing\n",
    "the following:\n",
    "\n",
    "1. For each atom of $^{209}$Pb in turn, decide at random, with the appropriate probability, whether it decays or not. (The probability can be calculated from $p(t) = 1 − 2t/\\tau $, where $\\tau$ is the half life.) Count the total number that decay, subtract it from the number of $^{209}$Pb atoms, and add it to the number of $^{209}$Bi atoms.\n",
    "\n",
    "2. Now do the same for $^{209}$Tl, except that decaying atoms are subtracted from the total for $^{209}$Tl and added to the total for $^{209}$Pb.\n",
    "\n",
    "3. For $^{213}$Bi the situation is more complicated: when a $^{213}$Bi atom decays you have to decide at random with the appropriate probability the route by which it decays. Count the numbers that decay by each route and add and subtract accordingly.\n",
    "\n",
    "Note that you have to work up the chain from the bottom like this, not down from the top,\n",
    "to avoid inadvertently making the same atom decay twice on a single step.\n",
    "\n",
    "Keep track of the number of atoms of each of the four isotopes at all times for 20,000 seconds\n",
    "and make a single graph showing the four numbers as a function of time on the same axes.\n",
    "\n"
   ]
  },
  {
   "cell_type": "code",
   "execution_count": 71,
   "metadata": {},
   "outputs": [
    {
     "data": {
      "image/png": "[encoded data removed]",
      "text/plain": [
       "<Figure size 432x288 with 1 Axes>"
      ]
     },
     "metadata": {
      "needs_background": "light"
     },
     "output_type": "display_data"
    }
   ],
   "source": [
    "import numpy as np\n",
    "from numpy import arange\n",
    "from pylab import plot,xlabel,ylabel,show\n",
    "#np.random.seed(3)\n",
    "#Initial Constants\n",
    "Bi209 = 0\n",
    "Pb209 = 0\n",
    "Tl209 = 0\n",
    "Bi213 = 10000\n",
    "tau_Pb209 = 3.3*60\n",
    "tau_Tl209 = 2.2*60\n",
    "tau_Bi213 = 46*60\n",
    "tmax = 10000\n",
    "h = 1.0\n",
    "p_Bi213 = 1 - 2**(-h/tau_Bi213)   # Probability of decay in one step\n",
    "p_Tl209 = 1 - 2**(-h/tau_Tl209)   # Probability of decay in one step\n",
    "p_Pb209 = 1 - 2**(-h/tau_Pb209)   # Probability of decay in one step\n",
    "\n",
    "# Lists of plot points\n",
    "tpoints = arange(0.0,tmax,h) # make time array\n",
    "Bi209_points = [] # empty array to strore # of Bi209 atoms at each time step\n",
    "Pb209_points = [] # empty array to strore # of Pb209 atoms at each time step\n",
    "Tl209_points = [] # empty array to strore # of Tl209 atoms at each time step\n",
    "Bi213_points = [] # empty array to strore # of Bi213 atoms at each time step\n",
    "\n",
    "# Main loop\n",
    "for t in tpoints:    # for time 0-1000 sec\n",
    "    Bi209_points.append(Bi209) # append starting # of Bi209 atoms\n",
    "    Pb209_points.append(Pb209) # append starting # of Pb209 atoms\n",
    "    Tl209_points.append(Tl209) # append starting # of Tl209 atoms\n",
    "    Bi213_points.append(Bi213) # append starting # of Bi213 atoms\n",
    "\n",
    "    # Calculate the number of atoms that decay\n",
    "    for i in range(Pb209): # determine number of Pb209 atoms that decay\n",
    "        if np.random.random() < p_Pb209:\n",
    "            Pb209 = Pb209 - 1\n",
    "            Bi209 = Bi209 + 1\n",
    "    \n",
    "    for i in range(Tl209): # determine number of Tl209 atoms that decay\n",
    "        if np.random.random() < p_Tl209:\n",
    "            Tl209 = Tl209 - 1\n",
    "            Pb209 = Pb209 + 1\n",
    "            \n",
    "    for i in range(Bi213): # determine number of Bi213 atoms that decay\n",
    "        if np.random.random() < p_Bi213:\n",
    "            Bi213 = Bi213 - 1\n",
    "            if np.random.random() <= .9791:\n",
    "                Pb209 = Pb209 + 1\n",
    "            else:\n",
    "                Tl209 = Tl209 + 1\n",
    "            \n",
    "# Make the graph\n",
    "plot(tpoints,Bi213_points, c='r') # plot Bi213 vs. time\n",
    "plot(tpoints,Tl209_points, c='g') # plot Tl209 vs. time\n",
    "plot(tpoints,Pb209_points, c='m') # plot Pb209 vs. time\n",
    "plot(tpoints,Bi209_points, c='b') # plot Bi209 vs. time\n",
    "xlabel(\"Time\")\n",
    "ylabel(\"Number of atoms\")\n",
    "show()"
   ]
  },
  {
   "cell_type": "markdown",
   "metadata": {},
   "source": [
    "## 2) Lets Make a Deal\n",
    "Monte Carlo methods are often useful to ensure that our thinking is reasonable. A good\n",
    "example of this kind of use is to investigate a simple problem that generated much attention\n",
    "several years ago and for which many mathematicians obtained an incorrect solution.\n",
    "\n",
    "The problem was the analysis of the optimal strategy in a television game show popular at\n",
    "the time. The show was Lets Make a Deal with host Monty Hall. At some point in the show,\n",
    "a contestant was given a choice of selecting one of three possible items, each concealed behind\n",
    "one of three closed doors. The items varied considerably in value.\n",
    "\n",
    "After the contestant made a choice but before the chosen door was opened, the\n",
    "host, who knew where the most valuable item was, would open one of the doors\n",
    "not selected and reveal a worthless item.\n",
    "\n",
    "**The host would then offer to let the contestant select a different door from what was originally\n",
    "selected. The question, of course, is should the contestant switch?**\n",
    "\n",
    "<img src=\"Monty_Hall_Problem.jpg\" alt=\"Decay process for Bi213 to Bi209\" title=\"Bismuth Decay\" />\n",
    "\n",
    "\n",
    "\n",
    "Much interest in this problem was generated when it was analyzed by a popular magazine\n",
    "writer, Marilyn vos Savant, who concluded that the optimal strategy is to switch. This\n",
    "strategy is counterintuitive to many mathematicians, who would say that there is nothing to\n",
    "be gained by switching; that is, that the probability of improving the selection is 0.5. Study\n",
    "this problem by Monte Carlo methods. Be careful to understand all of the assumptions\n",
    "\n",
    "**Write a code that implement this test for 1000 “games”, 500 where the contestant choose to KEEP their choice of door, and 500 where contestant chooses to CHANGE their choice of door:**\n",
    "\n",
    "\n",
    "## Determine if there is probability of improving the selection by switching, and if so by how much?\n",
    "\n"
   ]
  },
  {
   "cell_type": "code",
   "execution_count": 70,
   "metadata": {},
   "outputs": [
    {
     "name": "stdout",
     "output_type": "stream",
     "text": [
      "STAYING won us 3321 times while only losing 6679 times\n",
      "SWITCHING won us 6684 times while only losing 3316 times\n"
     ]
    }
   ],
   "source": [
    "#LOOP FOR STAYING AND LOSING/WINNING\n",
    "win = 0\n",
    "lose = 0\n",
    "for i in range(10000):\n",
    "   \n",
    "    #predetermined variables\n",
    "    winning_door = (np.random.randint(3)+1)\n",
    "    picked_door = (np.random.randint(3)+1)\n",
    "\n",
    "    #if player chooses car initially or not will determine if they win or not\n",
    "    if picked_door == winning_door:\n",
    "        win+=1\n",
    "    else:\n",
    "        lose+=1\n",
    "print(\"STAYING won us \"+str(win)+\" times while only losing \"+str(lose)+ \" times\")\n",
    "\n",
    "#LOOP FOR SWITCHING AND LOSING/WINNING\n",
    "win = 0\n",
    "lose = 0\n",
    "for i in range(10000):\n",
    "    \n",
    "    #predetermined variables\n",
    "    winning_door = (np.random.randint(3)+1)\n",
    "    picked_door = (np.random.randint(3)+1)\n",
    "    \n",
    "    #If you switch and you HAD THE WINNING DOOR, YOU LOSE\n",
    "    if picked_door== winning_door:\n",
    "        lose+=1\n",
    "    #If you originally HAD A GOAT, YOU WILL WIN 100% of the time if you switch\n",
    "    else:\n",
    "        win+=1\n",
    "print(\"SWITCHING won us \"+str(win)+\" times while only losing \"+str(lose)+ \" times\")\n",
    "\n",
    "    "
   ]
  }
 ],
 "metadata": {
  "kernelspec": {
   "display_name": "Python 3",
   "language": "python",
   "name": "python3"
  },
  "language_info": {
   "codemirror_mode": {
    "name": "ipython",
    "version": 3
   },
   "file_extension": ".py",
   "mimetype": "text/x-python",
   "name": "python",
   "nbconvert_exporter": "python",
   "pygments_lexer": "ipython3",
   "version": "3.8.3"
  }
 },
 "nbformat": 4,
 "nbformat_minor": 4
}
